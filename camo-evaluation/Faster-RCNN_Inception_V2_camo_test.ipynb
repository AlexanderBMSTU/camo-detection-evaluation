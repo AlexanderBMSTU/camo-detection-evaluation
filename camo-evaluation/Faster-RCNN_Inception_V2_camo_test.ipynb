{
 "cells": [
  {
   "cell_type": "markdown",
   "metadata": {},
   "source": [
    "Автор:<br>Коваленко А.О.\n",
    "<br>Студент 2 курса магистратуры кафедры \"ИУ3\" МГТУ им. Н.Э. Баумана<br>\n",
    "\n",
    "Основанно на [Tensorflow Object Detection API](https://github.com/tensorflow/models/tree/master/research/object_detection)\n",
    "#### Ячейка под импорты модулей"
   ]
  },
  {
   "cell_type": "code",
   "execution_count": 1,
   "metadata": {
    "collapsed": true,
    "scrolled": true
   },
   "outputs": [],
   "source": [
    "import numpy as np\n",
    "import os\n",
    "import six.moves.urllib as urllib\n",
    "import sys\n",
    "import tarfile\n",
    "import tensorflow as tf\n",
    "import zipfile\n",
    "\n",
    "from collections import defaultdict\n",
    "from io import StringIO\n",
    "from matplotlib import pyplot as plt\n",
    "from PIL import Image\n",
    "from glob import glob\n",
    "\n",
    "%matplotlib inline\n",
    "# set display defaults\n",
    "plt.rcParams['figure.figsize'] = (10, 10)        # большие изображения\n",
    "plt.rcParams['image.interpolation'] = 'nearest'  # не использовать интерполяцию\n",
    "plt.rcParams['image.cmap'] = 'gray'  # полутоновый режим вывода\n",
    "\n",
    "sys.path.append(\"..\")\n",
    "\n",
    "from camo_test_functions import generate_camo_in_boxes,create_camo_images,average,plot_camo"
   ]
  },
  {
   "cell_type": "markdown",
   "metadata": {},
   "source": [
    "#### Иморт модулей Object Detection API"
   ]
  },
  {
   "cell_type": "code",
   "execution_count": 2,
   "metadata": {
    "collapsed": true,
    "scrolled": true
   },
   "outputs": [],
   "source": [
    "from utils import label_map_util\n",
    "from utils import visualization_utils as vis_util"
   ]
  },
  {
   "cell_type": "markdown",
   "metadata": {},
   "source": [
    "#### Вспомогательный код"
   ]
  },
  {
   "cell_type": "code",
   "execution_count": 27,
   "metadata": {
    "collapsed": true
   },
   "outputs": [],
   "source": [
    "'''\n",
    "Выгрузка графа модели в память.\n",
    "'''\n",
    "def load_detection_graph(path_to_graph):\n",
    "    detection_graph = tf.Graph()\n",
    "    with detection_graph.as_default():\n",
    "        od_graph_def = tf.GraphDef()\n",
    "        with tf.gfile.GFile(path_to_graph, 'rb') as fid:\n",
    "            serialized_graph = fid.read()\n",
    "            od_graph_def.ParseFromString(serialized_graph)\n",
    "            tf.import_graph_def(od_graph_def, name='')\n",
    "    return detection_graph\n",
    "\n",
    "'''\n",
    "Преобразование изображения в формат массива Numpy.\n",
    "'''\n",
    "def load_image_into_numpy_array(image):\n",
    "  (im_width, im_height) = image.size\n",
    "  return np.array(image.getdata()).reshape(\n",
    "      (im_height, im_width, 3)).astype(np.uint8)\n",
    "\n",
    "'''\n",
    "Распознавание.\n",
    "'''\n",
    "def detect_person_with_graph(detection_graph,image_paths_list):\n",
    "    with detection_graph.as_default():\n",
    "        with tf.Session(graph=detection_graph) as sess:\n",
    "            # Объявление входных и выходных тензоров\n",
    "            image_tensor = detection_graph.get_tensor_by_name('image_tensor:0')\n",
    "            detection_boxes = detection_graph.get_tensor_by_name('detection_boxes:0')\n",
    "            detection_scores = detection_graph.get_tensor_by_name('detection_scores:0')\n",
    "            detection_classes = detection_graph.get_tensor_by_name('detection_classes:0')\n",
    "            num_detections = detection_graph.get_tensor_by_name('num_detections:0')\n",
    "            all_scores = list()\n",
    "            for image_path in image_paths_list:\n",
    "                image = Image.open(image_path)\n",
    "                image_np = load_image_into_numpy_array(image)\n",
    "                # Размерность входного изображения должна быть: [1, None, None, 3]\n",
    "                image_np_expanded = np.expand_dims(image_np, axis=0)\n",
    "                # Распознавание.\n",
    "                (boxes, scores, classes, num) = sess.run(\n",
    "                    [detection_boxes, detection_scores, detection_classes, num_detections],\n",
    "                    feed_dict={image_tensor: image_np_expanded})\n",
    "                # Фильтруем детекции только для людей.\n",
    "                l = list(zip(np.squeeze(boxes),np.squeeze(classes).astype(np.int32),np.squeeze(scores)))\n",
    "                t = [t for t in l if t[1] == 1]\n",
    "                b, c, s = list(zip(*t))\n",
    "                np.array(b), np.array(c), np.array(s)\n",
    "                all_scores += s\n",
    "                # Визуализируем\n",
    "                '''vis_util.visualize_boxes_and_labels_on_image_array(\n",
    "                    image_np,\n",
    "                    np.array(b),\n",
    "                    np.array(c).astype(np.int32),\n",
    "                    np.array(s),\n",
    "                    category_index,\n",
    "                    use_normalized_coordinates=True,\n",
    "                    line_thickness=2)\n",
    "                plt.figure(figsize=(12, 8))\n",
    "                plt.imshow(image_np)'''\n",
    "            \n",
    "            all_scores = list(filter(lambda x: x > 0.5, all_scores))\n",
    "            n_det = len(all_scores)\n",
    "            print(all_scores)\n",
    "            if(ndet != 0):av_score = average(all_scores)\n",
    "            print('Num detections: ' + str(n_det) + '/12')\n",
    "            print('Average score: ' + str(av_score))\n",
    "            return (n_det,av_score)"
   ]
  },
  {
   "cell_type": "markdown",
   "metadata": {},
   "source": [
    "#### Выгрузка карты лейблов"
   ]
  },
  {
   "cell_type": "code",
   "execution_count": 4,
   "metadata": {
    "collapsed": true
   },
   "outputs": [],
   "source": [
    "PATH_TO_TEST_IMAGES_DIR = 'test_images'\n",
    "PATH_TO_LABELS = os.path.join('data', 'mscoco_label_map.pbtxt')\n",
    "NUM_CLASSES = 1\n",
    "\n",
    "label_map = label_map_util.load_labelmap(PATH_TO_LABELS)\n",
    "categories = label_map_util.convert_label_map_to_categories(label_map, max_num_classes=NUM_CLASSES, use_display_name=True)\n",
    "category_index = label_map_util.create_category_index(categories)"
   ]
  },
  {
   "cell_type": "code",
   "execution_count": 64,
   "metadata": {
    "collapsed": true
   },
   "outputs": [],
   "source": [
    "\n",
    "camo_prob = list()"
   ]
  },
  {
   "cell_type": "markdown",
   "metadata": {},
   "source": [
    "## 1 Тестируемая модель\n",
    "\n",
    "Ниже представлен эксперимент с распознаванием различных камуфляжей моделью представленной в [Tensorflow Object Detection Model Zoo](https://github.com/tensorflow/models/blob/master/research/object_detection/g3doc/detection_model_zoo.md), обученной на датасете [COCO](http://cocodataset.org/#home)\n",
    "\n",
    "#### Faster-RCNN Inception V2\n",
    ">* **Faster R-CNN: Towards Real-Time Object Detection with Region Proposal Networks.** *Shaoqing Ren, Kaiming He, Ross Girshick, Jian Sun.* [Arxiv 2016](https://arxiv.org/abs/1506.01497)\n",
    ">* **Rethinking the Inception Architecture for Computer Vision.** *Christian Szegedy, Vincent Vanhoucke, Sergey Ioffe, Jonathon Shlens, Zbigniew Wojna.* [Arxiv 2015](https://arxiv.org/abs/1512.00567)\n",
    "\n",
    "#### Faster-RCNN ResNet101\n",
    ">* **Faster R-CNN: Towards Real-Time Object Detection with Region Proposal Networks.** *Shaoqing Ren, Kaiming He, Ross Girshick, Jian Sun.* [Arxiv 2016](https://arxiv.org/abs/1506.01497)\n",
    ">* **Deep Residual Learning for Image Recognition.** *Kaiming He, Xiangyu Zhang, Shaoqing Ren, Jian Sun.* [Arxiv 2015](https://arxiv.org/abs/1512.03385)\n"
   ]
  },
  {
   "cell_type": "code",
   "execution_count": 65,
   "metadata": {
    "collapsed": true
   },
   "outputs": [],
   "source": [
    "# Имя модели\n",
    "MODEL_NAME = 'faster_rcnn_inception_v2_coco_2017_11_08'\n",
    "PATH_TO_CKPT = MODEL_NAME + '/frozen_inference_graph.pb'\n",
    "# Загрузка графа модели\n",
    "detection_graph = load_detection_graph(PATH_TO_CKPT)\n",
    "# Всего людей на всех изображениях\n",
    "PERSON_CNT = 12"
   ]
  },
  {
   "cell_type": "markdown",
   "metadata": {},
   "source": [
    "### Оригинальные изображения"
   ]
  },
  {
   "cell_type": "code",
   "execution_count": 66,
   "metadata": {},
   "outputs": [
    {
     "name": "stdout",
     "output_type": "stream",
     "text": [
      "[0.99797004, 0.9968605, 0.98946404, 0.9877466, 0.99895096, 0.99821377, 0.99340123, 0.9914636, 0.99276263, 0.99200046, 0.98532331, 0.80379045]\n",
      "Num detections: 12/12\n",
      "Average score: 0.774116754532\n"
     ]
    }
   ],
   "source": [
    "(ndet,av_score) = detect_person_with_graph(detection_graph,\n",
    "                         [os.path.join(PATH_TO_TEST_IMAGES_DIR, 'camo/original/{}.jpg'.format(i)) for i in range(1, 4)])\n"
   ]
  },
  {
   "cell_type": "markdown",
   "metadata": {},
   "source": [
    "### ACUPAT"
   ]
  },
  {
   "cell_type": "code",
   "execution_count": 67,
   "metadata": {},
   "outputs": [
    {
     "name": "stdout",
     "output_type": "stream",
     "text": [
      "[0.9914996, 0.70979732, 0.98661733, 0.91606891, 0.84701842, 0.59788293, 0.97687918, 0.91608781]\n",
      "Num detections: 8/12\n",
      "Average score: 0.774116754532\n"
     ]
    }
   ],
   "source": [
    "(ndet,av_score) = detect_person_with_graph(detection_graph,\n",
    "                         [os.path.join(PATH_TO_TEST_IMAGES_DIR, 'camo/acupat/{}.jpg'.format(i)) for i in range(1, 4)])\n",
    "camo_prob.append((ndet/PERSON_CNT,\"ACUPAT\"))"
   ]
  },
  {
   "cell_type": "markdown",
   "metadata": {},
   "source": [
    "### ATACS"
   ]
  },
  {
   "cell_type": "code",
   "execution_count": 68,
   "metadata": {},
   "outputs": [
    {
     "name": "stdout",
     "output_type": "stream",
     "text": [
      "[0.92578334, 0.60748482, 0.80638403, 0.75816506, 0.8966102, 0.59567279]\n",
      "Num detections: 6/12\n",
      "Average score: 0.774116754532\n"
     ]
    }
   ],
   "source": [
    "(ndet,av_score) = detect_person_with_graph(detection_graph,\n",
    "                         [os.path.join(PATH_TO_TEST_IMAGES_DIR, 'camo/atacs/{}.jpg'.format(i)) for i in range(1, 4)])\n",
    "camo_prob.append((ndet/PERSON_CNT,\"ATACS\"))"
   ]
  },
  {
   "cell_type": "markdown",
   "metadata": {},
   "source": [
    "### CADPAT"
   ]
  },
  {
   "cell_type": "code",
   "execution_count": 69,
   "metadata": {},
   "outputs": [
    {
     "name": "stdout",
     "output_type": "stream",
     "text": [
      "[0.97464323, 0.7854746, 0.52651501]\n",
      "Num detections: 3/12\n",
      "Average score: 0.774116754532\n"
     ]
    }
   ],
   "source": [
    "(ndet,av_score) = detect_person_with_graph(detection_graph,\n",
    "                         [os.path.join(PATH_TO_TEST_IMAGES_DIR, 'camo/cadpat/{}.jpg'.format(i)) for i in range(1, 4)])\n",
    "camo_prob.append((ndet/PERSON_CNT,\"CADPAT\"))"
   ]
  },
  {
   "cell_type": "markdown",
   "metadata": {},
   "source": [
    "### Flecktarn (Дания)"
   ]
  },
  {
   "cell_type": "code",
   "execution_count": 70,
   "metadata": {},
   "outputs": [
    {
     "name": "stdout",
     "output_type": "stream",
     "text": [
      "[0.96074551, 0.93917722, 0.77173102, 0.9486047]\n",
      "Num detections: 4/12\n",
      "Average score: 0.774116754532\n"
     ]
    }
   ],
   "source": [
    "(ndet,av_score) = detect_person_with_graph(detection_graph,\n",
    "                         [os.path.join(PATH_TO_TEST_IMAGES_DIR, 'camo/Flecktarn_Danish/{}.jpg'.format(i)) for i in range(1, 4)])\n",
    "camo_prob.append((ndet/PERSON_CNT,\"Flecktarn (Ned)\"))"
   ]
  },
  {
   "cell_type": "markdown",
   "metadata": {},
   "source": [
    "### Flecktarn (Германия)"
   ]
  },
  {
   "cell_type": "code",
   "execution_count": 71,
   "metadata": {},
   "outputs": [
    {
     "name": "stdout",
     "output_type": "stream",
     "text": [
      "[0.97737658, 0.77037382, 0.88221067, 0.85960567, 0.56683797, 0.99618125, 0.98355943, 0.96078289, 0.89512628]\n",
      "Num detections: 9/12\n",
      "Average score: 0.774116754532\n"
     ]
    }
   ],
   "source": [
    "(ndet,av_score) = detect_person_with_graph(detection_graph,\n",
    "                         [os.path.join(PATH_TO_TEST_IMAGES_DIR, 'camo/Flecktarn_Ger/{}.jpg'.format(i)) for i in range(1, 4)])\n",
    "camo_prob.append((ndet/PERSON_CNT,\"Flecktarn (Ger)\"))"
   ]
  },
  {
   "cell_type": "markdown",
   "metadata": {},
   "source": [
    "### Флора"
   ]
  },
  {
   "cell_type": "code",
   "execution_count": 72,
   "metadata": {},
   "outputs": [
    {
     "name": "stdout",
     "output_type": "stream",
     "text": [
      "[0.56119335]\n",
      "Num detections: 1/12\n",
      "Average score: 0.774116754532\n"
     ]
    }
   ],
   "source": [
    "(ndet,av_score) = detect_person_with_graph(detection_graph,\n",
    "                         [os.path.join(PATH_TO_TEST_IMAGES_DIR, 'camo/flora/{}.jpg'.format(i)) for i in range(1, 4)])\n",
    "camo_prob.append((ndet/PERSON_CNT,\"Флора\"))"
   ]
  },
  {
   "cell_type": "markdown",
   "metadata": {},
   "source": [
    "### KSK Snow"
   ]
  },
  {
   "cell_type": "code",
   "execution_count": 73,
   "metadata": {},
   "outputs": [
    {
     "name": "stdout",
     "output_type": "stream",
     "text": [
      "[0.97446388, 0.50881106, 0.86698508, 0.83234602, 0.72292513]\n",
      "Num detections: 5/12\n",
      "Average score: 0.774116754532\n"
     ]
    }
   ],
   "source": [
    "(ndet,av_score) = detect_person_with_graph(detection_graph,\n",
    "                         [os.path.join(PATH_TO_TEST_IMAGES_DIR, 'camo/ksk_snow_camo/{}.jpg'.format(i)) for i in range(1, 4)])\n",
    "camo_prob.append((ndet/PERSON_CNT,\"KSK-snow\"))"
   ]
  },
  {
   "cell_type": "markdown",
   "metadata": {},
   "source": [
    " ### M05 Woodland (Финляндия)"
   ]
  },
  {
   "cell_type": "code",
   "execution_count": 74,
   "metadata": {},
   "outputs": [
    {
     "name": "stdout",
     "output_type": "stream",
     "text": [
      "[0.9261142, 0.63632816, 0.97661126, 0.97489899, 0.72313142]\n",
      "Num detections: 5/12\n",
      "Average score: 0.774116754532\n"
     ]
    }
   ],
   "source": [
    "(ndet,av_score) = detect_person_with_graph(detection_graph,\n",
    "                         [os.path.join(PATH_TO_TEST_IMAGES_DIR, 'camo/M05_woodland_pattern_Fin/{}.jpg'.format(i)) for i in range(1, 4)])\n",
    "camo_prob.append((ndet/PERSON_CNT,\"M05-Woodland (Fin)\"))"
   ]
  },
  {
   "cell_type": "markdown",
   "metadata": {},
   "source": [
    "### MARPAT"
   ]
  },
  {
   "cell_type": "code",
   "execution_count": 75,
   "metadata": {},
   "outputs": [
    {
     "name": "stdout",
     "output_type": "stream",
     "text": [
      "[0.51822591, 0.99454343, 0.87986499, 0.97989857, 0.94591427, 0.58042949]\n",
      "Num detections: 6/12\n",
      "Average score: 0.774116754532\n"
     ]
    }
   ],
   "source": [
    "(ndet,av_score) = detect_person_with_graph(detection_graph,\n",
    "                         [os.path.join(PATH_TO_TEST_IMAGES_DIR, 'camo/marpat_usa/{}.jpg'.format(i)) for i in range(1, 4)])\n",
    "camo_prob.append((ndet/PERSON_CNT,\"MARPAT\"))"
   ]
  },
  {
   "cell_type": "markdown",
   "metadata": {},
   "source": [
    "### Multicam"
   ]
  },
  {
   "cell_type": "code",
   "execution_count": 76,
   "metadata": {},
   "outputs": [
    {
     "name": "stdout",
     "output_type": "stream",
     "text": [
      "[0.90570253]\n",
      "Num detections: 1/12\n",
      "Average score: 0.774116754532\n"
     ]
    }
   ],
   "source": [
    "(ndet,av_score) = detect_person_with_graph(detection_graph,\n",
    "                         [os.path.join(PATH_TO_TEST_IMAGES_DIR, 'camo/multicam/{}.jpg'.format(i)) for i in range(1, 4)])\n",
    "camo_prob.append((ndet/PERSON_CNT,\"MultiCam\"))"
   ]
  },
  {
   "cell_type": "markdown",
   "metadata": {},
   "source": [
    "### Партизан"
   ]
  },
  {
   "cell_type": "code",
   "execution_count": 77,
   "metadata": {},
   "outputs": [
    {
     "name": "stdout",
     "output_type": "stream",
     "text": [
      "[0.99181038, 0.98667657, 0.89381552, 0.79521573, 0.9935528, 0.99254954, 0.9857626, 0.94044232]\n",
      "Num detections: 8/12\n",
      "Average score: 0.774116754532\n"
     ]
    }
   ],
   "source": [
    "(ndet,av_score) = detect_person_with_graph(detection_graph,\n",
    "                         [os.path.join(PATH_TO_TEST_IMAGES_DIR, 'camo/partizan_rus/{}.jpg'.format(i)) for i in range(1, 4)])\n",
    "camo_prob.append((ndet/PERSON_CNT,\"Партизан\"))"
   ]
  },
  {
   "cell_type": "markdown",
   "metadata": {},
   "source": [
    "### Подлесок"
   ]
  },
  {
   "cell_type": "code",
   "execution_count": 78,
   "metadata": {},
   "outputs": [
    {
     "name": "stdout",
     "output_type": "stream",
     "text": [
      "[0.78624684, 0.79567695, 0.76834559]\n",
      "Num detections: 3/12\n",
      "Average score: 0.774116754532\n"
     ]
    }
   ],
   "source": [
    "(ndet,av_score) = detect_person_with_graph(detection_graph,\n",
    "                         [os.path.join(PATH_TO_TEST_IMAGES_DIR, 'camo/podlesok/{}.jpg'.format(i)) for i in range(1, 4)])\n",
    "camo_prob.append((ndet/PERSON_CNT,\"Подлесок\"))"
   ]
  },
  {
   "cell_type": "markdown",
   "metadata": {},
   "source": [
    "### Растр"
   ]
  },
  {
   "cell_type": "code",
   "execution_count": 79,
   "metadata": {},
   "outputs": [
    {
     "name": "stdout",
     "output_type": "stream",
     "text": [
      "[0.89760393, 0.81418931]\n",
      "Num detections: 2/12\n",
      "Average score: 0.774116754532\n"
     ]
    }
   ],
   "source": [
    "(ndet,av_score) = detect_person_with_graph(detection_graph,\n",
    "                         [os.path.join(PATH_TO_TEST_IMAGES_DIR, 'camo/rastr/{}.jpg'.format(i)) for i in range(1, 4)])\n",
    "camo_prob.append((ndet/PERSON_CNT,\"Растр\"))"
   ]
  },
  {
   "cell_type": "markdown",
   "metadata": {},
   "source": [
    "### СКВО Спектр горный"
   ]
  },
  {
   "cell_type": "code",
   "execution_count": 80,
   "metadata": {},
   "outputs": [
    {
     "name": "stdout",
     "output_type": "stream",
     "text": [
      "[0.96296138, 0.9351601, 0.86578488, 0.71100128, 0.85363334, 0.51622516, 0.96555805, 0.95764846, 0.94185925]\n",
      "Num detections: 9/12\n",
      "Average score: 0.774116754532\n"
     ]
    }
   ],
   "source": [
    "(ndet,av_score) = detect_person_with_graph(detection_graph,\n",
    "                         [os.path.join(PATH_TO_TEST_IMAGES_DIR, 'camo/Skwospectre_mount_Rus/{}.jpg'.format(i)) for i in range(1, 4)])\n",
    "camo_prob.append((ndet/PERSON_CNT,\"СКВО-Спектр (Горный)\"))"
   ]
  },
  {
   "cell_type": "markdown",
   "metadata": {},
   "source": [
    "### СКВО Спектр"
   ]
  },
  {
   "cell_type": "code",
   "execution_count": 81,
   "metadata": {},
   "outputs": [
    {
     "name": "stdout",
     "output_type": "stream",
     "text": [
      "[0.88832861, 0.56096661, 0.919505]\n",
      "Num detections: 3/12\n",
      "Average score: 0.774116754532\n"
     ]
    }
   ],
   "source": [
    "(ndet,av_score) = detect_person_with_graph(detection_graph,\n",
    "                         [os.path.join(PATH_TO_TEST_IMAGES_DIR, 'camo/Skwospectre_Rus/{}.jpg'.format(i)) for i in range(1, 4)])\n",
    "camo_prob.append((ndet/PERSON_CNT,\"СКВО-Спектр\"))"
   ]
  },
  {
   "cell_type": "markdown",
   "metadata": {},
   "source": [
    "### Смог"
   ]
  },
  {
   "cell_type": "code",
   "execution_count": 82,
   "metadata": {},
   "outputs": [
    {
     "name": "stdout",
     "output_type": "stream",
     "text": [
      "[0.91111159, 0.74710333, 0.56995761, 0.99265575, 0.97938329, 0.92788106]\n",
      "Num detections: 6/12\n",
      "Average score: 0.774116754532\n"
     ]
    }
   ],
   "source": [
    "(ndet,av_score) = detect_person_with_graph(detection_graph,\n",
    "                         [os.path.join(PATH_TO_TEST_IMAGES_DIR, 'camo/smog_rus/{}.jpg'.format(i)) for i in range(1, 4)])\n",
    "camo_prob.append((ndet/PERSON_CNT,\"Смог\"))"
   ]
  },
  {
   "cell_type": "markdown",
   "metadata": {},
   "source": [
    "### Спектр"
   ]
  },
  {
   "cell_type": "code",
   "execution_count": 83,
   "metadata": {},
   "outputs": [
    {
     "name": "stdout",
     "output_type": "stream",
     "text": [
      "[0.6436938, 0.94883728, 0.98375332, 0.92055762]\n",
      "Num detections: 4/12\n",
      "Average score: 0.774116754532\n"
     ]
    }
   ],
   "source": [
    "(ndet,av_score) = detect_person_with_graph(detection_graph,\n",
    "                         [os.path.join(PATH_TO_TEST_IMAGES_DIR, 'camo/Spectre_Rus/{}.jpg'.format(i)) for i in range(1, 4)])\n",
    "camo_prob.append((ndet/PERSON_CNT,\"Спектр\"))"
   ]
  },
  {
   "cell_type": "markdown",
   "metadata": {},
   "source": [
    "### Тигр камыш"
   ]
  },
  {
   "cell_type": "code",
   "execution_count": 84,
   "metadata": {},
   "outputs": [
    {
     "name": "stdout",
     "output_type": "stream",
     "text": [
      "[0.91906697, 0.88473099, 0.63482928]\n",
      "Num detections: 3/12\n",
      "Average score: 0.774116754532\n"
     ]
    }
   ],
   "source": [
    "(ndet,av_score) = detect_person_with_graph(detection_graph,\n",
    "                         [os.path.join(PATH_TO_TEST_IMAGES_DIR, 'camo/tigr_kamysh/{}.jpg'.format(i)) for i in range(1, 4)])\n",
    "camo_prob.append((ndet/PERSON_CNT,\"Тигр\"))"
   ]
  },
  {
   "cell_type": "markdown",
   "metadata": {},
   "source": [
    "### Town (США)"
   ]
  },
  {
   "cell_type": "code",
   "execution_count": 85,
   "metadata": {},
   "outputs": [
    {
     "name": "stdout",
     "output_type": "stream",
     "text": [
      "[0.84910816, 0.9845925, 0.94680297, 0.8366729]\n",
      "Num detections: 4/12\n",
      "Average score: 0.774116754532\n"
     ]
    }
   ],
   "source": [
    "(ndet,av_score) = detect_person_with_graph(detection_graph,\n",
    "                         [os.path.join(PATH_TO_TEST_IMAGES_DIR, 'camo/town_usa/{}.jpg'.format(i)) for i in range(1, 4)])\n",
    "camo_prob.append((ndet/PERSON_CNT,\"Городской\"))"
   ]
  },
  {
   "cell_type": "markdown",
   "metadata": {},
   "source": [
    "### Woodland"
   ]
  },
  {
   "cell_type": "code",
   "execution_count": 86,
   "metadata": {},
   "outputs": [
    {
     "name": "stdout",
     "output_type": "stream",
     "text": [
      "[0.83527178, 0.81949353, 0.86784238, 0.74819416, 0.97072279, 0.94536781, 0.92447037, 0.90039378]\n",
      "Num detections: 8/12\n",
      "Average score: 0.774116754532\n"
     ]
    }
   ],
   "source": [
    "(ndet,av_score) = detect_person_with_graph(detection_graph,\n",
    "                         [os.path.join(PATH_TO_TEST_IMAGES_DIR, 'camo/woodland/{}.jpg'.format(i)) for i in range(1, 4)])\n",
    "camo_prob.append((ndet/PERSON_CNT,\"Woodland\"))"
   ]
  },
  {
   "cell_type": "code",
   "execution_count": 87,
   "metadata": {},
   "outputs": [
    {
     "data": {
      "image/png": "[encoded data removed]",
      "text/plain": [
       "<matplotlib.figure.Figure at 0x14b6dbfd550>"
      ]
     },
     "metadata": {},
     "output_type": "display_data"
    }
   ],
   "source": [
    "camo_prob.sort()\n",
    "\n",
    "ys , labels = zip(*camo_prob)\n",
    "xs = np.arange(len(labels))\n",
    "width = 0.5\n",
    "\n",
    "ys = list(ys)\n",
    "for i in range(0,len(ys)):\n",
    "    ys[i] = ys[i]*100\n",
    "\n",
    "fig = plt.figure()\n",
    "plt.ylabel('Точность распознавания [%]')\n",
    "ax = fig.gca()\n",
    "ax.bar(xs, ys, width, align='center')\n",
    "\n",
    "ax.set_xticks(xs + width / 2)\n",
    "ax.set_xticklabels(labels)\n",
    "fig.autofmt_xdate()\n"
   ]
  }
 ],
 "metadata": {
  "kernelspec": {
   "display_name": "Python 3",
   "language": "python",
   "name": "python3"
  },
  "language_info": {
   "codemirror_mode": {
    "name": "ipython",
    "version": 3
   },
   "file_extension": ".py",
   "mimetype": "text/x-python",
   "name": "python",
   "nbconvert_exporter": "python",
   "pygments_lexer": "ipython3",
   "version": "3.5.4"
  }
 },
 "nbformat": 4,
 "nbformat_minor": 2
}
